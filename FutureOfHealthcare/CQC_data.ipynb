{
 "cells": [
  {
   "cell_type": "markdown",
   "metadata": {},
   "source": [
    "CQC Data Investigation\n",
    "\n",
    "By Paul Duckworth 20 Sept 2017.\n",
    "\n",
    "Initial attempt to investigate the [CQC](http://www.cqc.org.uk/about-us/transparency/using-cqc-data) (Care Quality Commission) data and see if we can use the ratings for each of the primary health sites Matt visits. \n",
    "\n"
   ]
  },
  {
   "cell_type": "code",
   "execution_count": 70,
   "metadata": {},
   "outputs": [
    {
     "name": "stdout",
     "output_type": "stream",
     "text": [
      "loaded.\n"
     ]
    }
   ],
   "source": [
    "import os\n",
    "import pandas as pd\n",
    "import matplotlib.pyplot as plt\n",
    "%matplotlib inline\n",
    "\n",
    "datasets = '/home/paul/Datasets/ONET/'\n",
    "excel_doc = pd.ExcelFile(os.path.join(datasets, 'FoHC/CQC/1 September 2017 Latest ratings.xlsx'))\n",
    "all_data = excel_doc.parse(\"Locations\").fillna(\"-\")\n",
    "print \"loaded.\""
   ]
  },
  {
   "cell_type": "markdown",
   "metadata": {},
   "source": [
    "## Variable Names: \n",
    "\n",
    "I have created a new unique variable name from \"Service/ Population Group\" and \"Key Question\". "
   ]
  },
  {
   "cell_type": "code",
   "execution_count": 121,
   "metadata": {},
   "outputs": [
    {
     "name": "stdout",
     "output_type": "stream",
     "text": [
      "[u'Readme', u'Locations', u'Providers']\n"
     ]
    }
   ],
   "source": [
    "print excel_doc.sheet_names\n",
    "all_data.loc[:,'Question'] = all_data.loc[:,'Service / Population Group'] + \": \" + all_data.loc[:,'Key Question']"
   ]
  },
  {
   "cell_type": "markdown",
   "metadata": {},
   "source": [
    "## Site Names: \n",
    "\n",
    "Make Sure each site name is correcly named in the dataset. "
   ]
  },
  {
   "cell_type": "code",
   "execution_count": 96,
   "metadata": {
    "collapsed": true
   },
   "outputs": [],
   "source": [
    "sites = ['Bartlemas Surgery', 'Berinsfield Health Centre', 'Woodhouse Health Centre']"
   ]
  },
  {
   "cell_type": "code",
   "execution_count": 104,
   "metadata": {},
   "outputs": [],
   "source": [
    "site_data = all_data[all_data['Location Name'].isin(sites)]\n",
    "sites_found = list(site_data['Location Name'].unique())\n",
    "\n",
    "if len(sites_found) != len(sites):\n",
    "    print \"Warning - not all sites found in dataset\"\n"
   ]
  },
  {
   "cell_type": "code",
   "execution_count": 118,
   "metadata": {},
   "outputs": [],
   "source": [
    "test = all_data[ (all_data['Location City'].isin(['Sheffield'])) & ( all_data['Location Type'].isin(['Primary Medical Services']) )]\n",
    "test['Location Name'].unique()\n",
    "test = test[test['Location Name'].str.contains('Wood', na=False)] "
   ]
  },
  {
   "cell_type": "code",
   "execution_count": 114,
   "metadata": {},
   "outputs": [],
   "source": [
    "variables = ['Location Name', 'Question', 'Latest Rating']\n",
    "data = site_data[variables]\n",
    "data.head()\n",
    "\n",
    "pivot = data.pivot(index='Location Name', columns='Question')\n"
   ]
  },
  {
   "cell_type": "code",
   "execution_count": 119,
   "metadata": {},
   "outputs": [
    {
     "data": {
      "text/html": [
       "<div>\n",
       "<style>\n",
       "    .dataframe thead tr:only-child th {\n",
       "        text-align: right;\n",
       "    }\n",
       "\n",
       "    .dataframe thead th {\n",
       "        text-align: left;\n",
       "    }\n",
       "\n",
       "    .dataframe tbody tr th {\n",
       "        vertical-align: top;\n",
       "    }\n",
       "</style>\n",
       "<table border=\"1\" class=\"dataframe\">\n",
       "  <thead>\n",
       "    <tr>\n",
       "      <th></th>\n",
       "      <th colspan=\"12\" halign=\"left\">Latest Rating</th>\n",
       "    </tr>\n",
       "    <tr>\n",
       "      <th>Question</th>\n",
       "      <th>Families, children and young people: Overall</th>\n",
       "      <th>Older people: Overall</th>\n",
       "      <th>Overall: Caring</th>\n",
       "      <th>Overall: Effective</th>\n",
       "      <th>Overall: Overall</th>\n",
       "      <th>Overall: Responsive</th>\n",
       "      <th>Overall: Safe</th>\n",
       "      <th>Overall: Well-led</th>\n",
       "      <th>People experiencing poor mental health (including people with dementia): Overall</th>\n",
       "      <th>People whose circumstances may make them vulnerable: Overall</th>\n",
       "      <th>People with long term conditions: Overall</th>\n",
       "      <th>Working age people (including those recently retired and students): Overall</th>\n",
       "    </tr>\n",
       "    <tr>\n",
       "      <th>Location Name</th>\n",
       "      <th></th>\n",
       "      <th></th>\n",
       "      <th></th>\n",
       "      <th></th>\n",
       "      <th></th>\n",
       "      <th></th>\n",
       "      <th></th>\n",
       "      <th></th>\n",
       "      <th></th>\n",
       "      <th></th>\n",
       "      <th></th>\n",
       "      <th></th>\n",
       "    </tr>\n",
       "  </thead>\n",
       "  <tbody>\n",
       "    <tr>\n",
       "      <th>Bartlemas Surgery</th>\n",
       "      <td>Good</td>\n",
       "      <td>Good</td>\n",
       "      <td>Good</td>\n",
       "      <td>Good</td>\n",
       "      <td>Good</td>\n",
       "      <td>Good</td>\n",
       "      <td>Good</td>\n",
       "      <td>Good</td>\n",
       "      <td>Good</td>\n",
       "      <td>Good</td>\n",
       "      <td>Good</td>\n",
       "      <td>Good</td>\n",
       "    </tr>\n",
       "    <tr>\n",
       "      <th>Berinsfield Health Centre</th>\n",
       "      <td>Good</td>\n",
       "      <td>Good</td>\n",
       "      <td>Good</td>\n",
       "      <td>Good</td>\n",
       "      <td>Good</td>\n",
       "      <td>Good</td>\n",
       "      <td>Good</td>\n",
       "      <td>Good</td>\n",
       "      <td>Good</td>\n",
       "      <td>Good</td>\n",
       "      <td>Good</td>\n",
       "      <td>Good</td>\n",
       "    </tr>\n",
       "    <tr>\n",
       "      <th>Woodhouse Health Centre</th>\n",
       "      <td>Good</td>\n",
       "      <td>Good</td>\n",
       "      <td>Good</td>\n",
       "      <td>Good</td>\n",
       "      <td>Good</td>\n",
       "      <td>Good</td>\n",
       "      <td>Good</td>\n",
       "      <td>Good</td>\n",
       "      <td>Good</td>\n",
       "      <td>Good</td>\n",
       "      <td>Good</td>\n",
       "      <td>Good</td>\n",
       "    </tr>\n",
       "  </tbody>\n",
       "</table>\n",
       "</div>"
      ],
      "text/plain": [
       "                                                         Latest Rating  \\\n",
       "Question                  Families, children and young people: Overall   \n",
       "Location Name                                                            \n",
       "Bartlemas Surgery                                                 Good   \n",
       "Berinsfield Health Centre                                         Good   \n",
       "Woodhouse Health Centre                                           Good   \n",
       "\n",
       "                                                                 \\\n",
       "Question                  Older people: Overall Overall: Caring   \n",
       "Location Name                                                     \n",
       "Bartlemas Surgery                          Good            Good   \n",
       "Berinsfield Health Centre                  Good            Good   \n",
       "Woodhouse Health Centre                    Good            Good   \n",
       "\n",
       "                                                               \\\n",
       "Question                  Overall: Effective Overall: Overall   \n",
       "Location Name                                                   \n",
       "Bartlemas Surgery                       Good             Good   \n",
       "Berinsfield Health Centre               Good             Good   \n",
       "Woodhouse Health Centre                 Good             Good   \n",
       "\n",
       "                                                                               \\\n",
       "Question                  Overall: Responsive Overall: Safe Overall: Well-led   \n",
       "Location Name                                                                   \n",
       "Bartlemas Surgery                        Good          Good              Good   \n",
       "Berinsfield Health Centre                Good          Good              Good   \n",
       "Woodhouse Health Centre                  Good          Good              Good   \n",
       "\n",
       "                                                                                                            \\\n",
       "Question                  People experiencing poor mental health (including people with dementia): Overall   \n",
       "Location Name                                                                                                \n",
       "Bartlemas Surgery                                                       Good                                 \n",
       "Berinsfield Health Centre                                               Good                                 \n",
       "Woodhouse Health Centre                                                 Good                                 \n",
       "\n",
       "                                                                                        \\\n",
       "Question                  People whose circumstances may make them vulnerable: Overall   \n",
       "Location Name                                                                            \n",
       "Bartlemas Surgery                                                       Good             \n",
       "Berinsfield Health Centre                                               Good             \n",
       "Woodhouse Health Centre                                                 Good             \n",
       "\n",
       "                                                                     \\\n",
       "Question                  People with long term conditions: Overall   \n",
       "Location Name                                                         \n",
       "Bartlemas Surgery                                              Good   \n",
       "Berinsfield Health Centre                                      Good   \n",
       "Woodhouse Health Centre                                        Good   \n",
       "\n",
       "                                                                                                       \n",
       "Question                  Working age people (including those recently retired and students): Overall  \n",
       "Location Name                                                                                          \n",
       "Bartlemas Surgery                                                       Good                           \n",
       "Berinsfield Health Centre                                               Good                           \n",
       "Woodhouse Health Centre                                                 Good                           "
      ]
     },
     "execution_count": 119,
     "metadata": {},
     "output_type": "execute_result"
    }
   ],
   "source": [
    "pivot"
   ]
  }
 ],
 "metadata": {
  "kernelspec": {
   "display_name": "Python 2",
   "language": "python",
   "name": "python2"
  },
  "language_info": {
   "codemirror_mode": {
    "name": "ipython",
    "version": 2
   },
   "file_extension": ".py",
   "mimetype": "text/x-python",
   "name": "python",
   "nbconvert_exporter": "python",
   "pygments_lexer": "ipython2",
   "version": "2.7.13"
  }
 },
 "nbformat": 4,
 "nbformat_minor": 2
}
