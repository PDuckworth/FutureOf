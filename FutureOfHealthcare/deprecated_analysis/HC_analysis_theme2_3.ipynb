{
 "cells": [
  {
   "cell_type": "markdown",
   "metadata": {},
   "source": [
    "# Analysis Theme 2 & 3  - NOT USED IN FINAL REPORT\n",
    "\n",
    "By Paul Duckworth 22nd Aug 2018.\n",
    "\n",
    "- Read in the Healthcare Observed Dataset\n",
    "\n",
    "- Create analysis to explain our Report Themes. \n"
   ]
  },
  {
   "cell_type": "code",
   "execution_count": 1,
   "metadata": {
    "scrolled": true
   },
   "outputs": [
    {
     "name": "stdout",
     "output_type": "stream",
     "text": [
      "All Tasks: 264\n",
      "Unique Tasks: 108\n"
     ]
    },
    {
     "data": {
      "text/html": [
       "<div>\n",
       "<style scoped>\n",
       "    .dataframe tbody tr th:only-of-type {\n",
       "        vertical-align: middle;\n",
       "    }\n",
       "\n",
       "    .dataframe tbody tr th {\n",
       "        vertical-align: top;\n",
       "    }\n",
       "\n",
       "    .dataframe thead th {\n",
       "        text-align: right;\n",
       "    }\n",
       "</style>\n",
       "<table border=\"1\" class=\"dataframe\">\n",
       "  <thead>\n",
       "    <tr style=\"text-align: right;\">\n",
       "      <th></th>\n",
       "      <th>Observed Occupation</th>\n",
       "      <th>Task</th>\n",
       "      <th>Task keywords/context</th>\n",
       "      <th>GP Code</th>\n",
       "      <th>DWA Task</th>\n",
       "      <th>DWA ID</th>\n",
       "      <th>Notes</th>\n",
       "      <th>Task also done by</th>\n",
       "      <th>Technology Use</th>\n",
       "      <th>Technology use3</th>\n",
       "      <th>...</th>\n",
       "      <th>partial automation</th>\n",
       "      <th>Future automation potential (FAP)</th>\n",
       "      <th>FAP Notes</th>\n",
       "      <th>clinical</th>\n",
       "      <th>structured_work</th>\n",
       "      <th>Task Weight</th>\n",
       "      <th>Automation Scores</th>\n",
       "      <th>Weighted Average Automation Score</th>\n",
       "      <th>catn</th>\n",
       "      <th>cat</th>\n",
       "    </tr>\n",
       "  </thead>\n",
       "  <tbody>\n",
       "    <tr>\n",
       "      <th>0</th>\n",
       "      <td>Administrator</td>\n",
       "      <td>Address problems that arise with building</td>\n",
       "      <td>NaN</td>\n",
       "      <td>BSC</td>\n",
       "      <td>Notify others of emergencies, problems, or haz...</td>\n",
       "      <td>4.A.4.a.2.I08.D07; 4.A.4.a.2.I08.D04; 4.A.4.a....</td>\n",
       "      <td>NaN</td>\n",
       "      <td>Deputy Practice Manager; Administrator</td>\n",
       "      <td>NaN</td>\n",
       "      <td>NaN</td>\n",
       "      <td>...</td>\n",
       "      <td>no</td>\n",
       "      <td>no</td>\n",
       "      <td>NaN</td>\n",
       "      <td>0</td>\n",
       "      <td>-1</td>\n",
       "      <td>0.20; 0.20; 0.20; 0.20; 0.20;</td>\n",
       "      <td>3.27; 2.90; 3.30; 3.10; 2.46;</td>\n",
       "      <td>3.004637</td>\n",
       "      <td>3.0</td>\n",
       "      <td>High</td>\n",
       "    </tr>\n",
       "    <tr>\n",
       "      <th>1</th>\n",
       "      <td>Administrator</td>\n",
       "      <td>Answer phone</td>\n",
       "      <td>NaN</td>\n",
       "      <td>NaN</td>\n",
       "      <td>Answer telephones to direct calls or provide i...</td>\n",
       "      <td>4.A.4.a.3.I03.D11</td>\n",
       "      <td>NaN</td>\n",
       "      <td>Practice Nurse; Nurse Practitioner; Healthcare...</td>\n",
       "      <td>phone</td>\n",
       "      <td>desktop</td>\n",
       "      <td>...</td>\n",
       "      <td>no</td>\n",
       "      <td>no</td>\n",
       "      <td>NaN</td>\n",
       "      <td>0</td>\n",
       "      <td>-1</td>\n",
       "      <td>1.00;</td>\n",
       "      <td>3.15;</td>\n",
       "      <td>3.153151</td>\n",
       "      <td>3.0</td>\n",
       "      <td>High</td>\n",
       "    </tr>\n",
       "    <tr>\n",
       "      <th>2</th>\n",
       "      <td>Administrator</td>\n",
       "      <td>Checking for errors in paperwork</td>\n",
       "      <td>NaN</td>\n",
       "      <td>BSC</td>\n",
       "      <td>Check data for recording errors.</td>\n",
       "      <td>4.A.2.a.2.I01.D08</td>\n",
       "      <td>NaN</td>\n",
       "      <td>Administrator; Practice Manager; Secretary</td>\n",
       "      <td>desktop</td>\n",
       "      <td>paper forms</td>\n",
       "      <td>...</td>\n",
       "      <td>no</td>\n",
       "      <td>NaN</td>\n",
       "      <td>NaN</td>\n",
       "      <td>0</td>\n",
       "      <td>-1</td>\n",
       "      <td>1.00;</td>\n",
       "      <td>3.27;</td>\n",
       "      <td>3.272835</td>\n",
       "      <td>3.0</td>\n",
       "      <td>High</td>\n",
       "    </tr>\n",
       "    <tr>\n",
       "      <th>3</th>\n",
       "      <td>Administrator</td>\n",
       "      <td>Cleaning up information in the patients electr...</td>\n",
       "      <td>NaN</td>\n",
       "      <td>NaN</td>\n",
       "      <td>Process healthcare paperwork.</td>\n",
       "      <td>4.A.4.c.1.I01.D03</td>\n",
       "      <td>Summarisers do this while they are working wit...</td>\n",
       "      <td>Practice Nurse; Nurse Practitioner; Healthcare...</td>\n",
       "      <td>NaN</td>\n",
       "      <td>NaN</td>\n",
       "      <td>...</td>\n",
       "      <td>NaN</td>\n",
       "      <td>NaN</td>\n",
       "      <td>NaN</td>\n",
       "      <td>0</td>\n",
       "      <td>-1</td>\n",
       "      <td>1.00;</td>\n",
       "      <td>2.91;</td>\n",
       "      <td>2.913987</td>\n",
       "      <td>2.0</td>\n",
       "      <td>Medium</td>\n",
       "    </tr>\n",
       "    <tr>\n",
       "      <th>4</th>\n",
       "      <td>Administrator</td>\n",
       "      <td>Connecting human resources/making introduction...</td>\n",
       "      <td>NaN</td>\n",
       "      <td>BSC</td>\n",
       "      <td>Relay information between personnel.</td>\n",
       "      <td>4.A.4.a.2.I03.D11</td>\n",
       "      <td>NaN</td>\n",
       "      <td>Deputy Practice Manager; Administrator</td>\n",
       "      <td>NaN</td>\n",
       "      <td>NaN</td>\n",
       "      <td>...</td>\n",
       "      <td>no</td>\n",
       "      <td>no</td>\n",
       "      <td>NaN</td>\n",
       "      <td>0</td>\n",
       "      <td>-1</td>\n",
       "      <td>1.00;</td>\n",
       "      <td>3.38;</td>\n",
       "      <td>3.375000</td>\n",
       "      <td>3.0</td>\n",
       "      <td>High</td>\n",
       "    </tr>\n",
       "  </tbody>\n",
       "</table>\n",
       "<p>5 rows × 25 columns</p>\n",
       "</div>"
      ],
      "text/plain": [
       "  Observed Occupation                                               Task  \\\n",
       "0       Administrator          Address problems that arise with building   \n",
       "1       Administrator                                       Answer phone   \n",
       "2       Administrator                   Checking for errors in paperwork   \n",
       "3       Administrator  Cleaning up information in the patients electr...   \n",
       "4       Administrator  Connecting human resources/making introduction...   \n",
       "\n",
       "  Task keywords/context GP Code  \\\n",
       "0                   NaN     BSC   \n",
       "1                   NaN     NaN   \n",
       "2                   NaN     BSC   \n",
       "3                   NaN     NaN   \n",
       "4                   NaN     BSC   \n",
       "\n",
       "                                            DWA Task  \\\n",
       "0  Notify others of emergencies, problems, or haz...   \n",
       "1  Answer telephones to direct calls or provide i...   \n",
       "2                   Check data for recording errors.   \n",
       "3                      Process healthcare paperwork.   \n",
       "4               Relay information between personnel.   \n",
       "\n",
       "                                              DWA ID  \\\n",
       "0  4.A.4.a.2.I08.D07; 4.A.4.a.2.I08.D04; 4.A.4.a....   \n",
       "1                                  4.A.4.a.3.I03.D11   \n",
       "2                                  4.A.2.a.2.I01.D08   \n",
       "3                                  4.A.4.c.1.I01.D03   \n",
       "4                                  4.A.4.a.2.I03.D11   \n",
       "\n",
       "                                               Notes  \\\n",
       "0                                                NaN   \n",
       "1                                                NaN   \n",
       "2                                                NaN   \n",
       "3  Summarisers do this while they are working wit...   \n",
       "4                                                NaN   \n",
       "\n",
       "                                   Task also done by Technology Use  \\\n",
       "0             Deputy Practice Manager; Administrator            NaN   \n",
       "1  Practice Nurse; Nurse Practitioner; Healthcare...          phone   \n",
       "2         Administrator; Practice Manager; Secretary        desktop   \n",
       "3  Practice Nurse; Nurse Practitioner; Healthcare...            NaN   \n",
       "4             Deputy Practice Manager; Administrator            NaN   \n",
       "\n",
       "  Technology use3   ...   partial automation  \\\n",
       "0             NaN   ...                   no   \n",
       "1         desktop   ...                   no   \n",
       "2     paper forms   ...                   no   \n",
       "3             NaN   ...                  NaN   \n",
       "4             NaN   ...                   no   \n",
       "\n",
       "  Future automation potential (FAP) FAP Notes clinical structured_work  \\\n",
       "0                                no       NaN        0              -1   \n",
       "1                                no       NaN        0              -1   \n",
       "2                               NaN       NaN        0              -1   \n",
       "3                               NaN       NaN        0              -1   \n",
       "4                                no       NaN        0              -1   \n",
       "\n",
       "                      Task Weight               Automation Scores  \\\n",
       "0   0.20; 0.20; 0.20; 0.20; 0.20;   3.27; 2.90; 3.30; 3.10; 2.46;   \n",
       "1                           1.00;                           3.15;   \n",
       "2                           1.00;                           3.27;   \n",
       "3                           1.00;                           2.91;   \n",
       "4                           1.00;                           3.38;   \n",
       "\n",
       "  Weighted Average Automation Score  catn     cat  \n",
       "0                          3.004637   3.0    High  \n",
       "1                          3.153151   3.0    High  \n",
       "2                          3.272835   3.0    High  \n",
       "3                          2.913987   2.0  Medium  \n",
       "4                          3.375000   3.0    High  \n",
       "\n",
       "[5 rows x 25 columns]"
      ]
     },
     "execution_count": 1,
     "metadata": {},
     "output_type": "execute_result"
    }
   ],
   "source": [
    "# encoding=utf8\n",
    "import os\n",
    "import numpy as np\n",
    "import pandas as pd\n",
    "import getpass\n",
    "import pickle\n",
    "import string\n",
    "import matplotlib.pyplot as plt\n",
    "from matplotlib import rc\n",
    "rc('font',**{'family': 'serif', 'serif':\"Computer Modern Roman\"})\n",
    "rc('text', usetex=True)\n",
    "\n",
    "import seaborn as sns\n",
    "from scipy.stats import gaussian_kde\n",
    "%matplotlib inline\n",
    "\n",
    "## # Input DATA set of observed Occupations and Tasks\n",
    "datasets = '/home/'+ getpass.getuser() +'/Datasets/'\n",
    "d = os.path.join(datasets, 'FoHealthcare/Final_dataset_27082018.xlsx')\n",
    "\n",
    "excel_doc = pd.ExcelFile(d)\n",
    "dataset = excel_doc.parse(sheet_name='ExpandedTasks')\n",
    "# dataset = dataset[dataset[\"clinical\"] != 1]\n",
    "\n",
    "task_dataset = excel_doc.parse(sheet_name='Tasks')\n",
    "# task_dataset = task_dataset[task_dataset[\"clinical\"] != 1]\n",
    "\n",
    "print(\"All Tasks: %s\" % str(dataset.shape[0]))\n",
    "print(\"Unique Tasks: %s\" % len(dataset[\"Task\"].unique()))\n",
    "out_file_path = \"/home/scpd/Dropbox/Documents/Oxford/writing/FutureOfHealthcare_project_docs/FinalReports/Analysis_images/\"\n",
    "\n",
    "cats = {1: 'Low', 2: 'Medium', 3: 'High'}\n",
    "dataset = dataset.assign(catn = lambda x: np.floor(x['Weighted Average Automation Score']))\n",
    "dataset['cat'] = dataset['catn'].map(cats)\n",
    "dataset.head()"
   ]
  },
  {
   "cell_type": "markdown",
   "metadata": {},
   "source": [
    "## Occupations with all automatable tasks: "
   ]
  },
  {
   "cell_type": "code",
   "execution_count": 2,
   "metadata": {},
   "outputs": [
    {
     "name": "stdout",
     "output_type": "stream",
     "text": [
      "\n",
      " Administrator\n",
      "clerical =  100.0\n",
      "\n",
      " Deputy Practice Manager\n",
      "clerical =  100.0\n",
      "\n",
      " General Practitioner\n",
      "clerical =  100.0\n",
      "\n",
      " Healthcare Assistant\n",
      "clerical =  100.0\n",
      "\n",
      " Nurse Practitioner\n",
      "clerical =  100.0\n",
      "\n",
      " Pharmacy Technician\n",
      "clerical =  100.0\n",
      "\n",
      " Phlebotomist\n",
      "clerical =  100.0\n",
      "\n",
      " Practice Manager\n",
      "clerical =  100.0\n",
      "\n",
      " Practice Nurse\n",
      "clerical =  100.0\n",
      "\n",
      " Practice Pharmacist\n",
      "clerical =  100.0\n",
      "\n",
      " Prescription Clerk\n",
      "clerical =  100.0\n",
      "\n",
      " Receptionist\n",
      "clerical =  100.0\n",
      "\n",
      " Scanning Clerk\n",
      "clerical =  100.0\n",
      "\n",
      " Secretary\n",
      "clerical =  100.0\n",
      "\n",
      " Summariser\n",
      "clerical =  100.0\n",
      "[]\n"
     ]
    }
   ],
   "source": [
    "unique_occupations = dataset[\"Observed Occupation\"].unique()\n",
    "clinical_staff = []\n",
    "for occ in unique_occupations:\n",
    "    df = dataset[dataset[\"Observed Occupation\"] == occ]\n",
    "    df2 = df.groupby(\"clinical\").count()\n",
    "    print(\"\\n\",occ)\n",
    "    \n",
    "    try:\n",
    "        print(\"clerical = \" , df2[\"Task\"][0] / (df2[\"Task\"][0] + df2[\"Task\"][1])*100)\n",
    "        print(\"clinical = \", df2[\"Task\"][1] / (df2[\"Task\"][0] + df2[\"Task\"][1])*100)\n",
    "        clinical_staff.append(occ)\n",
    "    except KeyError:\n",
    "        print(\"clerical = \", df2[\"Task\"][0] / (df2[\"Task\"][0])*100)\n",
    "\n",
    "    auto_mean = df[\"Weighted Average Automation Score\"].mean()\n",
    "    auto_std = df[\"Weighted Average Automation Score\"].std()\n",
    "print(clinical_staff)\n",
    "\n"
   ]
  },
  {
   "cell_type": "code",
   "execution_count": 5,
   "metadata": {},
   "outputs": [
    {
     "name": "stdout",
     "output_type": "stream",
     "text": [
      "29\n",
      "0.2116788321167883\n",
      "(333, 25)\n",
      "The amount of clinical vs clerical work, for those occupations who actualy perform clinical tasks\n",
      "clinical\n",
      "0    64\n",
      "1    69\n",
      "Name: Task, dtype: int64\n",
      "133\n"
     ]
    },
    {
     "data": {
      "text/plain": [
       "0.518796992481203"
      ]
     },
     "execution_count": 5,
     "metadata": {},
     "output_type": "execute_result"
    }
   ],
   "source": [
    "n_clinical_tasks = task_dataset[\"clinical\"].sum() \n",
    "print(n_clinical_tasks)\n",
    "print(n_clinical_tasks / task_dataset[\"clinical\"].shape[0])\n",
    "\n",
    "print(dataset.shape)\n",
    "\n",
    "print(\"The amount of clinical vs clerical work, for those occupations who actualy perform clinical tasks\")\n",
    "subset = dataset.loc[dataset['Observed Occupation'].isin(clinical_staff)]\n",
    "print(subset.groupby(\"clinical\").count()[\"Task\"])\n",
    "print(69+64)\n",
    "69/(69+64)"
   ]
  },
  {
   "cell_type": "code",
   "execution_count": 6,
   "metadata": {},
   "outputs": [
    {
     "data": {
      "text/plain": [
       "array(['General Practitioner', 'Healthcare Assistant',\n",
       "       'Nurse Practitioner', 'Phlebotomist', 'Practice Nurse'],\n",
       "      dtype=object)"
      ]
     },
     "execution_count": 6,
     "metadata": {},
     "output_type": "execute_result"
    }
   ],
   "source": [
    "subset[\"Observed Occupation\"].unique()"
   ]
  },
  {
   "cell_type": "markdown",
   "metadata": {},
   "source": [
    "# Theme 2: Clinical vs Clerical "
   ]
  },
  {
   "cell_type": "code",
   "execution_count": 7,
   "metadata": {},
   "outputs": [
    {
     "name": "stdout",
     "output_type": "stream",
     "text": [
      "(108, 23) (29, 23)\n"
     ]
    }
   ],
   "source": [
    "clerical_tasks   = task_dataset[task_dataset[\"clinical\"] == 0]\n",
    "clinical_tasks   = task_dataset[task_dataset[\"clinical\"] == 1]\n",
    "print(clerical_tasks.shape, clinical_tasks.shape)"
   ]
  },
  {
   "cell_type": "code",
   "execution_count": 8,
   "metadata": {},
   "outputs": [
    {
     "name": "stdout",
     "output_type": "stream",
     "text": [
      "(264, 25) (69, 25)\n",
      "clinical avg task automation score: 2.781 (0.192)\n",
      "clerical avg task automation score: 2.901 (0.342)\n",
      "all avg task automation score: 2.877 (0.320)\n"
     ]
    }
   ],
   "source": [
    "clerical = dataset[dataset[\"clinical\"] == 0]\n",
    "clinical = dataset[dataset[\"clinical\"] == 1]\n",
    "print(clerical.shape, clinical.shape)\n",
    "\n",
    "for df, name in zip([clinical, clerical, dataset], [\"clinical\", \"clerical\", \"all\"] ):  \n",
    "    y = \"Weighted Average Automation Score\"\n",
    "    print(\"%s avg task automation score: %0.3f (%0.3f)\" % (name, df[y].mean(), df[y].std()))"
   ]
  },
  {
   "cell_type": "code",
   "execution_count": 17,
   "metadata": {},
   "outputs": [
    {
     "data": {
      "image/png": "[encoded data removed]",
      "text/plain": [
       "<matplotlib.figure.Figure at 0x7fcba5ddf748>"
      ]
     },
     "metadata": {},
     "output_type": "display_data"
    }
   ],
   "source": [
    "# plot the distribution\n",
    "fig, ax = plt.subplots()\n",
    "\n",
    "xs = np.linspace(1,4,200)\n",
    "datasets = [clerical[\"Weighted Average Automation Score\"], clinical[\"Weighted Average Automation Score\"], dataset[\"Weighted Average Automation Score\"]]\n",
    "legend_text = [\"Clerical Tasks\", \"Clinical Tasks\", \"All\"]\n",
    "line_f = [\"-\", \"-\", \"--\"]\n",
    "\n",
    "for i in range(3):\n",
    "    y = datasets[i]\n",
    "    \n",
    "    density = gaussian_kde(y, 'scott')\n",
    "    # density = gaussian_kde(y, 'silverman')\n",
    "    density.covariance_factor = lambda : 0.2\n",
    "    density._compute_covariance()\n",
    "    ax.plot(xs, density(xs), ls=line_f[i])\n",
    "#     ax.vlines(x=2, ymax=max(density(xs)), ymin=0., linestyles='--', linewidth=1., color='k')\n",
    "#     ax.vlines(x=3, ymax=max(density(xs)), ymin=0., linestyles='--', linewidth=1., color='k')\n",
    "\n",
    "ax.tick_params(top='off', bottom='on', left='off', right='off', labelleft='off', labelbottom='on')\n",
    "ax.spines['right'].set_visible(False)\n",
    "ax.spines['top'].set_visible(False)\n",
    "ax.spines['left'].set_visible(False)\n",
    "ax.set_xlabel(\"Task Automatability Score\", fontsize=16)\n",
    "ax.set_ylabel(\"\")\n",
    "ax.legend(legend_text, loc=2, shadow=True, fancybox=True, fontsize=14)\n",
    "ax.set_xticks([1., 2., 3., 4.])\n",
    "ax.set_xticklabels(['1\\nNot at All\\nAutomatable',\n",
    "                    '2\\nMostly Not\\nAutomatable',\n",
    "                    '3\\nMostly\\nAutomatable',\n",
    "                    '4\\nCompletely\\nAutomatable'], fontsize=14)\n",
    "ax.set_title(\"Distribution of Inferred Task Automation by Task-type\", fontsize=18)\n",
    "fig.savefig(out_file_path + \"Density_of_clini_vs_clen.pdf\", bbox_inches='tight')\n",
    "fig.savefig(out_file_path + \"Density_of_clini_vs_clen.png\", bbox_inches='tight')\n",
    "\n",
    "plt.show()"
   ]
  },
  {
   "cell_type": "code",
   "execution_count": null,
   "metadata": {},
   "outputs": [],
   "source": []
  },
  {
   "cell_type": "markdown",
   "metadata": {},
   "source": []
  },
  {
   "cell_type": "markdown",
   "metadata": {},
   "source": [
    "# Theme 3: Stuctured Tasks vs Unstructured Tasks:\n",
    "\n",
    "- \n"
   ]
  },
  {
   "cell_type": "code",
   "execution_count": 18,
   "metadata": {},
   "outputs": [
    {
     "name": "stdout",
     "output_type": "stream",
     "text": [
      "(110, 25) (95, 25)\n",
      "['Pharmacy Technician', 'Practice Pharmacist']\n",
      "\n",
      "unstructures employees: ['Administrator' 'Deputy Practice Manager' 'General Practitioner'\n",
      " 'Healthcare Assistant' 'Nurse Practitioner' 'Pharmacy Technician'\n",
      " 'Practice Manager' 'Practice Nurse' 'Practice Pharmacist' 'Receptionist'\n",
      " 'Secretary' 'Summariser']\n",
      "\n",
      "structures employees: ['Administrator' 'Deputy Practice Manager' 'General Practitioner'\n",
      " 'Healthcare Assistant' 'Nurse Practitioner' 'Phlebotomist'\n",
      " 'Practice Manager' 'Practice Nurse' 'Prescription Clerk' 'Receptionist'\n",
      " 'Scanning Clerk' 'Secretary' 'Summariser'] \n",
      "\n",
      "['Phlebotomist', 'Prescription Clerk', 'Scanning Clerk']\n"
     ]
    }
   ],
   "source": [
    "## Occupation level comparissons...\n",
    "\n",
    "struct  = dataset[dataset[\"structured_work\"] == 1]\n",
    "unstruct = dataset[dataset[\"structured_work\"] == -1]\n",
    "print(struct.shape, unstruct.shape)\n",
    "\n",
    "un_occ = unstruct[\"Observed Occupation\"].unique()\n",
    "occs = struct[\"Observed Occupation\"].unique()\n",
    "\n",
    "print([i for i in un_occ if i not in occs])\n",
    "\n",
    "print(\"\\nunstructures employees:\", un_occ)\n",
    "        \n",
    "print(\"\\nstructures employees:\", occs, \"\\n\")\n",
    "\n",
    "print([i for i in occs if i not in un_occ])"
   ]
  },
  {
   "cell_type": "code",
   "execution_count": 19,
   "metadata": {
    "scrolled": true
   },
   "outputs": [
    {
     "name": "stdout",
     "output_type": "stream",
     "text": [
      "(333, 25)\n",
      "Observed Occupation\n",
      "Administrator              2.994731\n",
      "Deputy Practice Manager    2.808431\n",
      "General Practitioner       2.836413\n",
      "Healthcare Assistant       2.792508\n",
      "Nurse Practitioner         2.831746\n",
      "Pharmacy Technician        2.826334\n",
      "Phlebotomist               2.743469\n",
      "Practice Manager           2.754175\n",
      "Practice Nurse             2.792586\n",
      "Practice Pharmacist        2.947671\n",
      "Prescription Clerk         2.894934\n",
      "Receptionist               3.029017\n",
      "Scanning Clerk             3.412389\n",
      "Secretary                  3.035020\n",
      "Summariser                 2.905111\n",
      "Name: Weighted Average Automation Score, dtype: float64\n"
     ]
    }
   ],
   "source": [
    "print(dataset.shape)\n",
    "print(dataset.groupby(by=\"Observed Occupation\")[\"Weighted Average Automation Score\"].mean())"
   ]
  },
  {
   "cell_type": "code",
   "execution_count": 20,
   "metadata": {},
   "outputs": [
    {
     "name": "stdout",
     "output_type": "stream",
     "text": [
      "(50, 23) (24, 23)\n"
     ]
    }
   ],
   "source": [
    "## Task Level analysis.\n",
    "struct   = task_dataset[task_dataset[\"structured_work\"] == 1]\n",
    "unstruct = task_dataset[task_dataset[\"structured_work\"] == -1]\n",
    "print(struct.shape, unstruct.shape)"
   ]
  },
  {
   "cell_type": "code",
   "execution_count": 21,
   "metadata": {},
   "outputs": [
    {
     "name": "stdout",
     "output_type": "stream",
     "text": [
      "structured avg task automation score: 2.934 (0.358)\n",
      "unstuctured avg task automation score: 2.863 (0.328)\n",
      "all avg task automation score: 2.877 (0.320)\n"
     ]
    }
   ],
   "source": [
    "for df, name in zip([struct, unstruct, dataset], [\"structured\", \"unstuctured\", \"all\"] ):  \n",
    "    y = \"Weighted Average Automation Score\"\n",
    "    print(\"%s avg task automation score: %0.3f (%0.3f)\" % (name, df[y].mean(), df[y].std()))"
   ]
  },
  {
   "cell_type": "code",
   "execution_count": 31,
   "metadata": {},
   "outputs": [
    {
     "data": {
      "image/png": "[encoded data removed]",
      "text/plain": [
       "<matplotlib.figure.Figure at 0x7fcba61219e8>"
      ]
     },
     "metadata": {},
     "output_type": "display_data"
    }
   ],
   "source": [
    "# plot the distribution\n",
    "fig, ax = plt.subplots()\n",
    "\n",
    "xs = np.linspace(1,4,200)\n",
    "datasets = [\n",
    "    dataset[dataset[\"structured_work\"]==1][\"Weighted Average Automation Score\"], \\\n",
    "    dataset[dataset[\"structured_work\"]==-1][\"Weighted Average Automation Score\"], \\\n",
    "    dataset[\"Weighted Average Automation Score\"]]\n",
    "legend_text = [\"Structured Work\", \"Unstructured Work\", \"All\"]\n",
    "line_f = [\"-\", \"-\", \"--\"]\n",
    "\n",
    "for i in range(3):\n",
    "    y = datasets[i]\n",
    "    \n",
    "    density = gaussian_kde(y, 'scott')\n",
    "    # density = gaussian_kde(y, 'silverman')\n",
    "    density.covariance_factor = lambda : 0.3\n",
    "    density._compute_covariance()\n",
    "    ax.plot(xs, density(xs), ls=line_f[i])\n",
    "#     ax.vlines(x=2, ymax=max(density(xs)), ymin=0., linestyles='--', linewidth=1., color='k')\n",
    "#     ax.vlines(x=3, ymax=max(density(xs)), ymin=0., linestyles='--', linewidth=1., color='k')\n",
    "\n",
    "ax.tick_params(top='off', bottom='on', left='off', right='off', labelleft='off', labelbottom='on')\n",
    "ax.spines['right'].set_visible(False)\n",
    "ax.spines['top'].set_visible(False)\n",
    "ax.spines['left'].set_visible(False)\n",
    "\n",
    "ax.set_xlabel(\"Task Automatability Score\", fontsize=16)\n",
    "ax.set_ylabel(\"\")\n",
    "\n",
    "ax.legend(legend_text, loc=2, shadow=True, fancybox=True, fontsize=14)\n",
    "ax.set_xticks([1., 2., 3., 4.])\n",
    "ax.set_xticklabels(['1\\nNot at All\\nAutomatable',\n",
    "                    '2\\nMostly Not\\nAutomatable',\n",
    "                    '3\\nMostly\\nAutomatable',\n",
    "                    '4\\nCompletely\\nAutomatable'], fontsize=14)\n",
    "ax.set_title(\"Distribution of Inferred Task Automation by Task-type\", fontsize=18)\n",
    "\n",
    "fig.savefig(out_file_path + \"Density_of_struct_vs_un.pdf\", bbox_inches='tight')\n",
    "fig.savefig(out_file_path + \"Density_of_struct_vs_un.png\", bbox_inches='tight')\n",
    "\n",
    "plt.show()"
   ]
  },
  {
   "cell_type": "code",
   "execution_count": 27,
   "metadata": {},
   "outputs": [
    {
     "data": {
      "image/png": "[encoded data removed]",
      "text/plain": [
       "<matplotlib.figure.Figure at 0x7fcba6067400>"
      ]
     },
     "metadata": {},
     "output_type": "display_data"
    }
   ],
   "source": [
    "# plot the distribution\n",
    "fig, ax = plt.subplots()\n",
    "\n",
    "xs = np.linspace(1,4,200)\n",
    "datasets = [\n",
    "    task_dataset[task_dataset[\"structured_work\"]==1][\"Weighted Average Automation Score\"], \\\n",
    "    task_dataset[task_dataset[\"structured_work\"]==-1][\"Weighted Average Automation Score\"], \\\n",
    "    task_dataset[\"Weighted Average Automation Score\"]]\n",
    "legend_text = [\"Structured Work\", \"Unstructured Work\", \"All\"]\n",
    "line_f = [\"-\", \"-\", \"--\"]\n",
    "\n",
    "for i in range(3):\n",
    "    y = datasets[i]\n",
    "    \n",
    "    density = gaussian_kde(y, 'scott')\n",
    "    # density = gaussian_kde(y, 'silverman')\n",
    "    density.covariance_factor = lambda : 0.3\n",
    "    density._compute_covariance()\n",
    "    ax.plot(xs, density(xs), ls=line_f[i])\n",
    "#     ax.vlines(x=2, ymax=max(density(xs)), ymin=0., linestyles='--', linewidth=1., color='k')\n",
    "#     ax.vlines(x=3, ymax=max(density(xs)), ymin=0., linestyles='--', linewidth=1., color='k')\n",
    "\n",
    "ax.tick_params(top='off', bottom='on', left='off', right='off', labelleft='off', labelbottom='on')\n",
    "ax.spines['right'].set_visible(False)\n",
    "ax.spines['top'].set_visible(False)\n",
    "ax.spines['left'].set_visible(False)\n",
    "ax.set_xlabel(\"Task Automatability Score\", fontsize=16)\n",
    "ax.set_ylabel(\"\")\n",
    "\n",
    "ax.legend(legend_text, loc=2, shadow=True, fancybox=True, fontsize=14)\n",
    "ax.set_xticks([1., 2., 3., 4.])\n",
    "ax.set_xticklabels(['1\\nNot at All\\nAutomatable',\n",
    "                    '2\\nMostly Not\\nAutomatable',\n",
    "                    '3\\nMostly\\nAutomatable',\n",
    "                    '4\\nCompletely\\nAutomatable'], fontsize=14)\n",
    "ax.set_title(\"Distribution of Inferred Task Automation by Task-type\", fontsize=18)\n",
    "\n",
    "fig.savefig(out_file_path + \"Density_of_struct_vs_un_tasks.pdf\", bbox_inches='tight')\n",
    "fig.savefig(out_file_path + \"Density_of_struct_vs_un_tasks.png\", bbox_inches='tight')\n",
    "\n",
    "plt.show()"
   ]
  }
 ],
 "metadata": {
  "kernelspec": {
   "display_name": "Python 3",
   "language": "python",
   "name": "python3"
  },
  "language_info": {
   "codemirror_mode": {
    "name": "ipython",
    "version": 3
   },
   "file_extension": ".py",
   "mimetype": "text/x-python",
   "name": "python",
   "nbconvert_exporter": "python",
   "pygments_lexer": "ipython3",
   "version": "3.5.4"
  }
 },
 "nbformat": 4,
 "nbformat_minor": 2
}
