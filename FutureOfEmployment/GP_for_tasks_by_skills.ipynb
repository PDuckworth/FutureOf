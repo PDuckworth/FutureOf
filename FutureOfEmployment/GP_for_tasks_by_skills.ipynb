{
 "cells": [
  {
   "cell_type": "code",
   "execution_count": 20,
   "metadata": {},
   "outputs": [
    {
     "name": "stdout",
     "output_type": "stream",
     "text": [
      "/home/scpd/Datasets/\n"
     ]
    }
   ],
   "source": [
    "import os\n",
    "import numpy as np\n",
    "import pandas as pd\n",
    "import getpass\n",
    "import cPickle as pickle\n",
    "import pylab as plt\n",
    "%matplotlib inline\n",
    "from random import shuffle\n",
    "import GPy\n",
    "\n",
    "datasets = '/home/'+ getpass.getuser() +'/Datasets/'\n",
    "print datasets\n",
    "\n",
    "#Misc settings\n",
    "fs = (9, 5)  # figure size; change this if you need to\n",
    "ms = 11  # marker size in plots\n",
    "sd = 6   # random seed"
   ]
  },
  {
   "cell_type": "code",
   "execution_count": 125,
   "metadata": {},
   "outputs": [],
   "source": [
    "file_name = 'tasks_by_skills.p'\n",
    "p = os.path.join(datasets, 'FoEmployment/Analysis_of_ONET_Tasks', file_name)\n",
    " \n",
    "with open(p, 'r') as f:\n",
    "    data = pickle.load(f)\n",
    "(X, test, y) = data"
   ]
  },
  {
   "cell_type": "code",
   "execution_count": null,
   "metadata": {
    "collapsed": true
   },
   "outputs": [],
   "source": [
    "# Validate :) \n",
    "# from sklearn.metrics import mean_squared_error\n",
    "# print \"validate RMS = \", math.sqrt(mean_squared_error(y_valid, y_pred))   # smaller better :)\n",
    "\n",
    "def rmse(predictions, targets):\n",
    "    return np.sqrt(((predictions - targets) ** 2).mean())"
   ]
  },
  {
   "cell_type": "code",
   "execution_count": 168,
   "metadata": {},
   "outputs": [],
   "source": [
    "def learn_a_GP(x_train, y_train, k):\n",
    "    in_dims = x_train.shape[1]\n",
    "    \n",
    "    k = GPy.kern.RBF(in_dims, variance=1, lengthscale=0.4)\n",
    "    # k = GPy.kern.Matern32(1)\n",
    "    # k = GPy.kern.Matern52(1)\n",
    "    # k = GPy.kern.Exponential(1)\n",
    "    # k = GPy.kern.PeriodicExponential(1)\n",
    "\n",
    "    m = GPy.models.GPRegression(x_train, y_train, k)\n",
    "    m.optimize()\n",
    "    return m"
   ]
  },
  {
   "cell_type": "code",
   "execution_count": 181,
   "metadata": {},
   "outputs": [
    {
     "data": {
      "text/plain": [
       "(35,)"
      ]
     },
     "execution_count": 181,
     "metadata": {},
     "output_type": "execute_result"
    }
   ],
   "source": [
    "cols.shape"
   ]
  },
  {
   "cell_type": "code",
   "execution_count": 184,
   "metadata": {},
   "outputs": [
    {
     "name": "stdout",
     "output_type": "stream",
     "text": [
      "repeat: 0 RMS Error is: 0.571242204245\n",
      "repeat: 1 RMS Error is: 0.517339951894\n",
      "repeat: 2 RMS Error is: 0.557446854743\n",
      "repeat: 3 RMS Error is: 0.54679311737\n",
      "repeat: 4 RMS Error is: 0.472694763349\n",
      "repeat: 5 RMS Error is: 0.511846109081\n",
      "repeat: 6 RMS Error is: 0.548040069598\n",
      "repeat: 7 RMS Error is: 0.592682193865\n",
      "repeat: 8 RMS Error is: 0.605167254206\n",
      "repeat: 9 RMS Error is: 0.619447976117\n",
      "\n",
      "Average RMS =  0.55427004944682845\n"
     ]
    }
   ],
   "source": [
    "val_size = 0.1\n",
    "cols = test.columns[2:]\n",
    "in_dims = cols.shape[0]\n",
    "\n",
    "# Create a Validation set\n",
    "msk = [i for i in range(X.shape[0])]\n",
    "\n",
    "RMS_reps = []\n",
    "for rep in xrange(10):\n",
    "    print \"repeat:\", rep, \n",
    "    shuffle(msk)\n",
    "\n",
    "    n_validation_set = int(np.floor(X.shape[0]*val_size))\n",
    "#     print msk[:n_validation_set]\n",
    "\n",
    "    x_train = X.iloc[msk[n_validation_set:]][cols].as_matrix()\n",
    "    x_valid = X.iloc[msk[:n_validation_set]][cols].as_matrix()\n",
    "\n",
    "    y_train = y[msk[n_validation_set:]].as_matrix().reshape(x_train.shape[0], 1)\n",
    "    y_valid = y[msk[:n_validation_set]].as_matrix().reshape(n_validation_set, 1)\n",
    "\n",
    "    x_test = test[cols].as_matrix()\n",
    "\n",
    "    m = learn_a_GP(x_train, y_train, k)\n",
    "    y_pred, Vp = m.predict(x_valid, full_cov=False)\n",
    "    err = rmse(y_valid, y_pred)\n",
    "    RMS_reps.append(err)\n",
    "    print \"RMS Error is: \" + str(err)\n",
    "    \n",
    "print \"\\nAverage RMS = \", repr(np.mean(RMS_reps))"
   ]
  },
  {
   "cell_type": "code",
   "execution_count": 87,
   "metadata": {},
   "outputs": [
    {
     "name": "stdout",
     "output_type": "stream",
     "text": [
      "(314, 39)\n",
      "(283, 35)\n",
      "(35, 1)\n",
      "(31, 35)\n",
      "(35, 1)\n",
      "(1753, 35)\n",
      "35\n"
     ]
    }
   ],
   "source": [
    "print X.shape\n",
    "print x_train.shape\n",
    "print y_train.shape\n",
    "print x_valid.shape\n",
    "print y_valid.shape\n",
    "print x_test.shape\n",
    "print in_dims"
   ]
  }
 ],
 "metadata": {
  "kernelspec": {
   "display_name": "Python 2",
   "language": "python",
   "name": "python2"
  }
 },
 "nbformat": 4,
 "nbformat_minor": 2
}
