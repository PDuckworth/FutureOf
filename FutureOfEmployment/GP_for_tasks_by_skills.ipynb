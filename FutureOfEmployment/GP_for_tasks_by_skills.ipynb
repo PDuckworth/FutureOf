{
 "cells": [
  {
   "cell_type": "code",
   "execution_count": 1,
   "metadata": {},
   "outputs": [
    {
     "name": "stdout",
     "output_type": "stream",
     "text": [
      "/home/scpd/Datasets/\n"
     ]
    }
   ],
   "source": [
    "import os\n",
    "import numpy as np\n",
    "import pandas as pd\n",
    "import getpass\n",
    "import cPickle as pickle\n",
    "import pylab as plt\n",
    "%matplotlib inline\n",
    "from random import shuffle\n",
    "import GPy\n",
    "\n",
    "datasets = '/home/'+ getpass.getuser() +'/Datasets/'\n",
    "print datasets\n",
    "\n",
    "file_name = 'tasks_by_skills.p'\n",
    "p = os.path.join(datasets, 'FoEmployment/Analysis_of_ONET_Tasks', file_name)\n",
    "\n",
    "with open(p, 'r') as f:\n",
    "    data = pickle.load(f)\n",
    "(X, test, y) = data\n",
    "\n",
    "#Misc settings\n",
    "fs = (9, 5)  # figure size; change this if you need to\n",
    "ms = 11  # marker size in plots\n",
    "sd = 6   # random seed"
   ]
  },
  {
   "cell_type": "code",
   "execution_count": 2,
   "metadata": {
    "collapsed": true
   },
   "outputs": [],
   "source": [
    "# Validate :) \n",
    "# from sklearn.metrics import mean_squared_error\n",
    "# print \"validate RMS = \", math.sqrt(mean_squared_error(y_valid, y_pred))   # smaller better :)\n",
    "\n",
    "def rmse(predictions, targets):\n",
    "    return np.sqrt(((predictions - targets) ** 2).mean())"
   ]
  },
  {
   "cell_type": "code",
   "execution_count": 3,
   "metadata": {},
   "outputs": [],
   "source": [
    "def learn_a_GP(x_train, y_train):\n",
    "    in_dims = x_train.shape[1]\n",
    "    \n",
    "    k = GPy.kern.RBF(in_dims, variance=1, lengthscale=0.4)\n",
    "    # k = GPy.kern.Matern32(1)\n",
    "    # k = GPy.kern.Matern52(1)\n",
    "    # k = GPy.kern.Exponential(1)\n",
    "    # k = GPy.kern.PeriodicExponential(1)\n",
    "\n",
    "    m = GPy.models.GPRegression(x_train, y_train, k)\n",
    "    m.optimize()\n",
    "    return m"
   ]
  },
  {
   "cell_type": "code",
   "execution_count": 4,
   "metadata": {},
   "outputs": [
    {
     "name": "stdout",
     "output_type": "stream",
     "text": [
      "repeat: 0"
     ]
    },
    {
     "ename": "NameError",
     "evalue": "name 'k' is not defined",
     "output_type": "error",
     "traceback": [
      "\u001b[0;31m---------------------------------------------------------------------------\u001b[0m",
      "\u001b[0;31mNameError\u001b[0m                                 Traceback (most recent call last)",
      "\u001b[0;32m<ipython-input-4-6f76a42c953e>\u001b[0m in \u001b[0;36m<module>\u001b[0;34m()\u001b[0m\n\u001b[1;32m     22\u001b[0m     \u001b[0mx_test\u001b[0m \u001b[0;34m=\u001b[0m \u001b[0mtest\u001b[0m\u001b[0;34m[\u001b[0m\u001b[0mcols\u001b[0m\u001b[0;34m]\u001b[0m\u001b[0;34m.\u001b[0m\u001b[0mas_matrix\u001b[0m\u001b[0;34m(\u001b[0m\u001b[0;34m)\u001b[0m\u001b[0;34m\u001b[0m\u001b[0m\n\u001b[1;32m     23\u001b[0m \u001b[0;34m\u001b[0m\u001b[0m\n\u001b[0;32m---> 24\u001b[0;31m     \u001b[0mm\u001b[0m \u001b[0;34m=\u001b[0m \u001b[0mlearn_a_GP\u001b[0m\u001b[0;34m(\u001b[0m\u001b[0mx_train\u001b[0m\u001b[0;34m,\u001b[0m \u001b[0my_train\u001b[0m\u001b[0;34m,\u001b[0m \u001b[0mk\u001b[0m\u001b[0;34m)\u001b[0m\u001b[0;34m\u001b[0m\u001b[0m\n\u001b[0m\u001b[1;32m     25\u001b[0m     \u001b[0my_pred\u001b[0m\u001b[0;34m,\u001b[0m \u001b[0mVp\u001b[0m \u001b[0;34m=\u001b[0m \u001b[0mm\u001b[0m\u001b[0;34m.\u001b[0m\u001b[0mpredict\u001b[0m\u001b[0;34m(\u001b[0m\u001b[0mx_valid\u001b[0m\u001b[0;34m,\u001b[0m \u001b[0mfull_cov\u001b[0m\u001b[0;34m=\u001b[0m\u001b[0mFalse\u001b[0m\u001b[0;34m)\u001b[0m\u001b[0;34m\u001b[0m\u001b[0m\n\u001b[1;32m     26\u001b[0m     \u001b[0merr\u001b[0m \u001b[0;34m=\u001b[0m \u001b[0mrmse\u001b[0m\u001b[0;34m(\u001b[0m\u001b[0my_valid\u001b[0m\u001b[0;34m,\u001b[0m \u001b[0my_pred\u001b[0m\u001b[0;34m)\u001b[0m\u001b[0;34m\u001b[0m\u001b[0m\n",
      "\u001b[0;31mNameError\u001b[0m: name 'k' is not defined"
     ]
    }
   ],
   "source": [
    "val_size = 0.1\n",
    "cols = test.columns[2:]\n",
    "in_dims = cols.shape[0]\n",
    "\n",
    "# Create a Validation set\n",
    "msk = [i for i in range(X.shape[0])]\n",
    "\n",
    "RMS_reps = []\n",
    "for rep in xrange(10):\n",
    "    print \"repeat:\", rep, \n",
    "    shuffle(msk)\n",
    "\n",
    "    n_validation_set = int(np.floor(X.shape[0]*val_size))\n",
    "#     print msk[:n_validation_set]\n",
    "\n",
    "    x_train = X.iloc[msk[n_validation_set:]][cols].as_matrix()\n",
    "    x_valid = X.iloc[msk[:n_validation_set]][cols].as_matrix()\n",
    "\n",
    "    y_train = y[msk[n_validation_set:]].as_matrix().reshape(x_train.shape[0], 1)\n",
    "    y_valid = y[msk[:n_validation_set]].as_matrix().reshape(n_validation_set, 1)\n",
    "\n",
    "    x_test = test[cols].as_matrix()\n",
    "\n",
    "    m = learn_a_GP(x_train, y_train)\n",
    "    y_pred, Vp = m.predict(x_valid, full_cov=False)\n",
    "    err = rmse(y_valid, y_pred)\n",
    "    RMS_reps.append(err)\n",
    "    print \"RMS Error is: \" + str(err)\n",
    "    \n",
    "print \"\\nAverage RMS = \", repr(np.mean(RMS_reps))"
   ]
  },
  {
   "cell_type": "code",
   "execution_count": null,
   "metadata": {},
   "outputs": [],
   "source": [
    "print X.shape\n",
    "print x_train.shape\n",
    "print y_train.shape\n",
    "print x_valid.shape\n",
    "print y_valid.shape\n",
    "print x_test.shape\n",
    "print in_dims"
   ]
  }
 ],
 "metadata": {
  "kernelspec": {
   "display_name": "Python 2",
   "language": "python",
   "name": "python2"
  },
  "language_info": {
   "codemirror_mode": {
    "name": "ipython",
    "version": 2
   },
   "file_extension": ".py",
   "mimetype": "text/x-python",
   "name": "python",
   "nbconvert_exporter": "python",
   "pygments_lexer": "ipython2",
   "version": "2.7.13"
  }
 },
 "nbformat": 4,
 "nbformat_minor": 2
}
